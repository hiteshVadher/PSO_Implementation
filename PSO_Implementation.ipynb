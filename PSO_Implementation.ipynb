{
 "cells": [
  {
   "cell_type": "code",
   "execution_count": 297,
   "id": "049d9cc1",
   "metadata": {},
   "outputs": [],
   "source": [
    "import random\n",
    "import math\n",
    "import csv\n",
    "import numpy as np\n",
    "from matplotlib import pyplot as plt\n",
    "from matplotlib import animation"
   ]
  },
  {
   "cell_type": "code",
   "execution_count": 298,
   "id": "d2e4df10",
   "metadata": {},
   "outputs": [
    {
     "name": "stdout",
     "output_type": "stream",
     "text": [
      "['-z', '+x', '-z', '-z', '-z', '-z', '-z', '-z', '-z', '-z', '+y', '+y', '-y', '-y', '+x', '+x']\n",
      "['A', 'B', 'C', 'C', 'D', 'D', 'D', 'D', 'E', 'E', 'E', 'E', 'E', 'E', 'F', 'F']\n",
      "[['0', '0', '0', '0', '0', '0', '0', '0', '0', '0', '0', '0', '0', '0', '0', '0'], ['1', '0', '1', '1', '1', '1', '1', '1', '1', '1', '0', '0', '0', '0', '1', '1'], ['1', '0', '0', '0', '0', '0', '0', '0', '0', '0', '0', '0', '0', '0', '0', '0'], ['1', '0', '0', '0', '0', '0', '0', '0', '0', '0', '0', '0', '0', '0', '0', '0'], ['1', '0', '1', '0', '0', '0', '0', '0', '0', '0', '0', '0', '0', '0', '0', '0'], ['1', '0', '1', '0', '0', '0', '0', '0', '0', '0', '0', '0', '0', '0', '0', '0'], ['1', '0', '0', '1', '0', '0', '0', '0', '0', '0', '0', '0', '0', '0', '0', '0'], ['1', '0', '0', '1', '0', '0', '0', '0', '0', '0', '0', '0', '0', '0', '0', '0'], ['1', '0', '1', '0', '0', '0', '0', '0', '0', '0', '0', '0', '0', '0', '0', '0'], ['1', '0', '0', '1', '0', '0', '0', '0', '0', '0', '0', '0', '0', '0', '0', '0'], ['1', '1', '1', '0', '0', '0', '0', '0', '1', '0', '0', '0', '0', '0', '1', '0'], ['1', '1', '1', '0', '0', '0', '0', '0', '1', '0', '0', '0', '0', '0', '1', '0'], ['1', '1', '0', '1', '0', '0', '0', '0', '0', '1', '0', '0', '0', '0', '0', '1'], ['1', '1', '0', '1', '0', '0', '0', '0', '0', '1', '0', '0', '0', '0', '0', '1'], ['1', '0', '1', '0', '0', '0', '0', '0', '1', '0', '0', '0', '0', '0', '0', '0'], ['1', '0', '0', '1', '0', '0', '0', '0', '0', '1', '0', '0', '0', '0', '0', '0']]\n"
     ]
    }
   ],
   "source": [
    "collection_of_sequences = []\n",
    "\n",
    "# No. of components\n",
    "no_of_components = 16\n",
    "\n",
    "#Directions / Orientations\n",
    "orientations = []\n",
    "orientations = ['-z','-z','-z','-z','-z','+z','-z','+x','-z','-y','-z','-y']\n",
    "#Tool Grippers\n",
    "tools_grippers = []\n",
    "tools_grippers = ['A','A','A','A','A','A','B','C','D','E','F','G']\n",
    "\n",
    "#Precedence Matrix\n",
    "if no_of_components==4:\n",
    "    file = 'precedence_matrix.csv'\n",
    "elif no_of_components==12:\n",
    "    file = 'precedence_matrix_12.csv'\n",
    "elif no_of_components==16:\n",
    "    file = 'precedence_matrix_16.csv'\n",
    "else:\n",
    "    print(\"Error!!\")\n",
    "    \n",
    "#Directions / Orientations\n",
    "if no_of_components==4:\n",
    "    orientations = ['+z','-z','+z','-z']\n",
    "elif no_of_components==12:\n",
    "    orientations = ['-z','-z','-z','-z','-z','+z','-z','+x','-z','-y','-z','-y']\n",
    "elif no_of_components==16:\n",
    "    orientations = ['-z','+x','-z','-z','-z','-z','-z','-z','-z','-z','+y','+y','-y','-y','+x','+x']\n",
    "else:\n",
    "    print(\"Error!!\")\n",
    "\n",
    "#Tool Grippers\n",
    "if no_of_components==4:\n",
    "    tools_grippers = ['A','B','C','A']\n",
    "elif no_of_components==12:\n",
    "    tools_grippers = ['A','A','A','A','A','A','B','C','D','E','F','G']\n",
    "elif no_of_components==16:\n",
    "    tools_grippers = ['A','B','C','C','D','D','D','D','E','E','E','E','E','E','F','F']\n",
    "else:\n",
    "    print(\"Error!!\")\n",
    "    \n",
    "precedence_list = []\n",
    "with open(file) as csvfile:\n",
    "    reader = csv.reader(csvfile, delimiter=',')\n",
    "    for row in reader:\n",
    "        precedence_list.append(row)\n",
    "\n",
    "print(orientations)\n",
    "print(tools_grippers)\n",
    "print(precedence_list)"
   ]
  },
  {
   "cell_type": "code",
   "execution_count": 299,
   "id": "b5551885",
   "metadata": {},
   "outputs": [],
   "source": [
    "wt = 0.5 #random.uniform(0, 1)\n",
    "wor = 0.5 #random.uniform(0, 1)    \n",
    "\n",
    "def check_precedence_criteria(sequence):\n",
    "    for i,part in enumerate(sequence):\n",
    "        to_search = precedence_list[part]\n",
    "        done_sequence = sequence[0:i]\n",
    "        to_search_final = [x for j, x in enumerate(to_search) if j not in done_sequence]\n",
    "        for a in to_search_final:\n",
    "            if (a == '1'):\n",
    "                return False\n",
    "    return True\n",
    "\n",
    "def calc_orientation_changes(sequence):\n",
    "    orien_changes = 0\n",
    "    current_orientation = orientations[sequence[0]]\n",
    "    for part in sequence[1:]:\n",
    "        if orientations[part] != current_orientation:\n",
    "            orien_changes += 1\n",
    "            current_orientation = orientations[part]\n",
    "    return orien_changes\n",
    "\n",
    "def calc_tool_changes(sequence):\n",
    "    tool_changes = 0\n",
    "    current_tool = tools_grippers[sequence[0]]\n",
    "    for part in sequence[1:]:\n",
    "        if tools_grippers[part] != current_tool:\n",
    "            tool_changes += 1\n",
    "            current_tool = tools_grippers[part]\n",
    "    return tool_changes\n",
    "\n",
    "def fitness_function(sequence):\n",
    "    is_feasible = check_precedence_criteria(sequence)\n",
    "    feasibility_index = 0.0\n",
    "    if is_feasible == True:\n",
    "        feasibility_index = 2.0\n",
    "    nt = calc_tool_changes(sequence)\n",
    "    nor = calc_orientation_changes(sequence)\n",
    "    FF = 1/(wor*nor + wt*nt - feasibility_index) \n",
    "    return FF"
   ]
  },
  {
   "cell_type": "code",
   "execution_count": null,
   "id": "b8f99bc6",
   "metadata": {},
   "outputs": [],
   "source": []
  },
  {
   "cell_type": "code",
   "execution_count": 300,
   "id": "14f1985d",
   "metadata": {},
   "outputs": [],
   "source": [
    "def update_velocity(particle, velocity, pbest, gbest, w_min=0.5, max=1.0, c=0.5):\n",
    "    # Initialise new velocity array\n",
    "    num_particle = len(particle)\n",
    "    new_velocity = np.array([0.0 for i in range(num_particle)])\n",
    "\n",
    "    # Randomly generate r1, r2 and inertia weight from normal distribution\n",
    "    r1 = random.uniform(0,0.2)\n",
    "    r2 = random.uniform(0,0.2)\n",
    "    w = random.uniform(w_min,0.8)\n",
    "    c1 = c\n",
    "    c2 = c\n",
    "    # Calculate new velocity\n",
    "    for i in range(num_particle):\n",
    "        new_velocity[i] = w*velocity[i] + c1*r1*(pbest[i]-particle[i])+c2*r2*(gbest[i]-particle[i])\n",
    "        if new_velocity[i] > 1:\n",
    "            new_velocity[i] = random.uniform(0, 0.8)\n",
    "    return new_velocity"
   ]
  },
  {
   "cell_type": "code",
   "execution_count": 301,
   "id": "f16d281f",
   "metadata": {},
   "outputs": [],
   "source": [
    "def update_position(particle, velocity):\n",
    "    # Move particles by adding velocity\n",
    "    new_particle = particle + velocity\n",
    "    particle = [int(x) for x in new_particle] \n",
    "    visited = [False for i in range(len(particle))]\n",
    "    not_visited = []\n",
    "    repair = []\n",
    "    for j in range(len(particle)):\n",
    "        num = particle[j]\n",
    "        if num < no_of_components and num >= 0 and visited[num] == False:\n",
    "            visited[num] = True\n",
    "        else:\n",
    "            repair.append(j)\n",
    "    for j in range(no_of_components):\n",
    "        if visited[j] == False:\n",
    "            not_visited.append(j)\n",
    "    for j in range(len(repair)):\n",
    "        num = random.choice(not_visited)\n",
    "        index = repair[j]\n",
    "        particle[index] = num\n",
    "        visited[num] = True\n",
    "        not_visited.remove(num)\n",
    "    return particle"
   ]
  },
  {
   "cell_type": "code",
   "execution_count": 302,
   "id": "0be7c42e",
   "metadata": {},
   "outputs": [
    {
     "name": "stdout",
     "output_type": "stream",
     "text": [
      "Global Best Sequence:  [0, 1, 2, 3, 4, 7, 6, 5, 8, 9, 12, 13, 10, 11, 14, 15]\n",
      "Precedence criteria:  False\n",
      "No. of tool changes:  5\n",
      "No. of orientation changes:  5\n",
      "Best Fitness Value:  0.2\n",
      "Average Particle Best Fitness Value:  0.19999999999999996\n"
     ]
    },
    {
     "data": {
      "text/plain": [
       "10"
      ]
     },
     "execution_count": 302,
     "metadata": {},
     "output_type": "execute_result"
    }
   ],
   "source": [
    "collection_of_best_sequences = []\n",
    "collection = []\n",
    "\n",
    "def pso(population, generation):\n",
    "    # Initialisation\n",
    "    # Population\n",
    "    particles = [[random.randint(0, no_of_components-1) for j in range(no_of_components)] for i in range(population)]\n",
    "    \n",
    "#     # Correction\n",
    "    for i in range(population):\n",
    "#         print(particles[i])\n",
    "        visited = [False for i in range(no_of_components)]\n",
    "        not_visited = []\n",
    "        repair = []\n",
    "        for j in range(no_of_components):\n",
    "            num = particles[i][j]\n",
    "            if num < no_of_components and num >= 0 and visited[num] == False:\n",
    "                visited[num] = True\n",
    "            else:\n",
    "                repair.append(j)\n",
    "        for j in range(no_of_components):\n",
    "            if visited[j] == False:\n",
    "                not_visited.append(j)\n",
    "#         print(not_visited)\n",
    "        for j in range(len(repair)):\n",
    "            num = random.choice(not_visited)\n",
    "            index = repair[j]\n",
    "            particles[i][index] = num\n",
    "            visited[num] = True\n",
    "            not_visited.remove(num)\n",
    "#         print(particles[i], \"\\n\")\n",
    "    \n",
    "    # Particle's best position\n",
    "    pbest_position = particles\n",
    "    # Fitness\n",
    "    pbest_fitness = [fitness_function(p) for p in particles]\n",
    "    \n",
    "    # Index of the best particle\n",
    "    gbest_index = np.argmax(pbest_fitness)\n",
    "    # Global best particle position\n",
    "    gbest_position = pbest_position[gbest_index]\n",
    "    # Velocity (starting from 0 speed)\n",
    "    velocity = [[random.uniform(0,0.5) for j in range(no_of_components)] for i in range(population)]\n",
    "\n",
    "    # Loop for the number of generation\n",
    "    for t in range(generation):\n",
    "    # Stop if the average fitness value reached a predefined success criterion\n",
    "        for n in range(population):\n",
    "            # Update the velocity of each particle\n",
    "            velocity[n] = update_velocity(particles[n], velocity[n], pbest_position[n], gbest_position)\n",
    "            # Move the particles to new position\n",
    "            particles[n] = update_position(particles[n], velocity[n])\n",
    "            if(fitness_function(particles[n]) > fitness_function(pbest_position[n])):\n",
    "                pbest_position[n] = particles[n]\n",
    "        # Calculate the fitness value\n",
    "        pbest_fitness = [fitness_function(p) for p in pbest_position]\n",
    "        # Find the index of the best particle\n",
    "        gbest_index = np.argmax(pbest_fitness)\n",
    "        # Update the position of the best particle\n",
    "        gbest_position = pbest_position[gbest_index]\n",
    "\n",
    "    # Print the results\n",
    "    print('Global Best Sequence: ', gbest_position)\n",
    "    print('Precedence criteria: ', check_precedence_criteria(gbest_position))\n",
    "    print('No. of tool changes: ', calc_tool_changes(gbest_position))\n",
    "    print('No. of orientation changes: ', calc_orientation_changes(gbest_position))\n",
    "    print('Best Fitness Value: ', min(pbest_fitness))\n",
    "    print('Average Particle Best Fitness Value: ', np.average(pbest_fitness))\n",
    "    return calc_tool_changes(gbest_position) + calc_orientation_changes(gbest_position)\n",
    "#     return [calc_tool_changes(gbest_position), calc_orientation_changes(gbest_position)]\n",
    "\n",
    "no_of_iterations = 2000\n",
    "# total_no_of_tool_orientation_changes = 1e9\n",
    "\n",
    "# for i in range(100):\n",
    "pso(50, no_of_iterations)"
   ]
  },
  {
   "cell_type": "code",
   "execution_count": 303,
   "id": "9e1a7e25",
   "metadata": {},
   "outputs": [],
   "source": [
    "# tlArr, ortArr = [],[]\n",
    "# for i in range(100):\n",
    "#     tl, ort = pso(no_of_components, no_of_iterations)\n",
    "#     tlArr.append(tl)\n",
    "#     ortArr.append(ort)\n",
    "# import numpy as np\n",
    "# print(np.mean(tlArr))\n",
    "# print(np.std(tlArr))\n",
    "# print(np.mean(ortArr))\n",
    "# print(np.std(ortArr))\n",
    "\n",
    "# print(\"range tl: \", np.mean(tlArr) - 2.576*np.std(tlArr), np.mean(tlArr) + 2.576*np.std(tlArr))\n",
    "# print(\"range ort: \", np.mean(ortArr) - 2.576*np.std(ortArr), np.mean(ortArr) + 2.576*np.std(ortArr))"
   ]
  },
  {
   "cell_type": "code",
   "execution_count": 309,
   "id": "fb2a0df6",
   "metadata": {},
   "outputs": [
    {
     "name": "stdout",
     "output_type": "stream",
     "text": [
      "True\n",
      "6\n",
      "3\n",
      "0.4 \n",
      "\n"
     ]
    }
   ],
   "source": [
    "s = [1, 4, 3, 6, 5, 8, 7, 10, 9, 16, 15, 2, 12, 11, 13, 14]\n",
    "for i in range(len(s)):\n",
    "    s[i] = s[i] - 1\n",
    "print(check_precedence_criteria(s))\n",
    "print(calc_tool_changes(s))\n",
    "print(calc_orientation_changes(s))\n",
    "print(fitness_function(s), \"\\n\")"
   ]
  },
  {
   "cell_type": "code",
   "execution_count": 305,
   "id": "f08f08b6",
   "metadata": {},
   "outputs": [
    {
     "name": "stdout",
     "output_type": "stream",
     "text": [
      "False\n",
      "9\n",
      "5\n",
      "0.14285714285714285 \n",
      "\n"
     ]
    }
   ],
   "source": [
    "s = [0, 4, 2, 1, 10, 6, 7, 3, 8, 11, 5, 9]\n",
    "print(check_precedence_criteria(s))\n",
    "print(calc_tool_changes(s))\n",
    "print(calc_orientation_changes(s))\n",
    "print(fitness_function(s), \"\\n\")"
   ]
  },
  {
   "cell_type": "code",
   "execution_count": null,
   "id": "8dd6f279",
   "metadata": {},
   "outputs": [],
   "source": []
  }
 ],
 "metadata": {
  "kernelspec": {
   "display_name": "Python 3 (ipykernel)",
   "language": "python",
   "name": "python3"
  },
  "language_info": {
   "codemirror_mode": {
    "name": "ipython",
    "version": 3
   },
   "file_extension": ".py",
   "mimetype": "text/x-python",
   "name": "python",
   "nbconvert_exporter": "python",
   "pygments_lexer": "ipython3",
   "version": "3.10.4"
  }
 },
 "nbformat": 4,
 "nbformat_minor": 5
}
